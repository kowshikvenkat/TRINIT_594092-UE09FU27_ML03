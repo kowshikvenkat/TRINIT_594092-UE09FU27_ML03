{
  "nbformat": 4,
  "nbformat_minor": 0,
  "metadata": {
    "colab": {
      "provenance": [],
      "include_colab_link": true
    },
    "kernelspec": {
      "name": "python3",
      "display_name": "Python 3"
    },
    "language_info": {
      "name": "python"
    }
  },
  "cells": [
    {
      "cell_type": "markdown",
      "metadata": {
        "id": "view-in-github",
        "colab_type": "text"
      },
      "source": [
        "<a href=\"https://colab.research.google.com/github/kowshikvenkat/TRINIT_594092-UE09FU27_ML03/blob/main/Crop_Prediction.ipynb\" target=\"_parent\"><img src=\"https://colab.research.google.com/assets/colab-badge.svg\" alt=\"Open In Colab\"/></a>"
      ]
    },
    {
      "cell_type": "code",
      "execution_count": null,
      "metadata": {
        "colab": {
          "base_uri": "https://localhost:8080/"
        },
        "id": "ZfA4xS907S-5",
        "outputId": "3cd8ee51-333e-4f34-ff7e-db64dea08b4d"
      },
      "outputs": [
        {
          "output_type": "stream",
          "name": "stdout",
          "text": [
            "Mounted at /content/drive\n"
          ]
        }
      ],
      "source": [
        "from google.colab import drive\n",
        "drive.mount('/content/drive')"
      ]
    },
    {
      "cell_type": "code",
      "source": [
        "import pandas as pd\n",
        "import pandas_profiling as pp\n",
        "import numpy as np\n",
        "import seaborn as sns\n",
        "import matplotlib.pyplot as plt\n",
        "import warnings\n",
        "import os\n",
        "import plotly.graph_objects as go\n",
        "import plotly.io as pio\n",
        "import pickle\n",
        "from sklearn.utils import resample\n",
        "# Metrics\n",
        "from sklearn.metrics import accuracy_score, classification_report, confusion_matrix, auc, roc_curve\n",
        "\n",
        "# Validation\n",
        "from sklearn.model_selection import train_test_split, cross_val_score, KFold\n",
        "from sklearn.pipeline import Pipeline, make_pipeline\n",
        "\n",
        "# Tuning\n",
        "from sklearn.model_selection import GridSearchCV\n",
        "\n",
        "# Feature Extraction\n",
        "from sklearn.feature_selection import RFE\n",
        "\n",
        "# Preprocessing\n",
        "from sklearn.preprocessing import MinMaxScaler, StandardScaler, Normalizer, Binarizer, LabelEncoder\n",
        "\n",
        "# Models\n",
        "from sklearn.discriminant_analysis import LinearDiscriminantAnalysis\n",
        "from sklearn.linear_model import LogisticRegression\n",
        "from sklearn.naive_bayes import GaussianNB\n",
        "from sklearn.svm import SVC\n",
        "from sklearn.neighbors import KNeighborsClassifier\n",
        "from sklearn.tree import DecisionTreeClassifier\n",
        "\n",
        "# Ensembles\n",
        "from sklearn.ensemble import RandomForestClassifier\n",
        "from sklearn.ensemble import BaggingClassifier\n",
        "from sklearn.ensemble import AdaBoostClassifier\n",
        "from sklearn.ensemble import GradientBoostingClassifier\n",
        "from sklearn.ensemble import ExtraTreesClassifier\n",
        "\n",
        "warnings.filterwarnings('ignore')\n",
        "\n",
        "\n",
        "sns.set_style(\"whitegrid\", {'axes.grid' : False})\n",
        "pio.templates.default = \"plotly_white\""
      ],
      "metadata": {
        "id": "J0pVDQc37WPf"
      },
      "execution_count": null,
      "outputs": []
    },
    {
      "cell_type": "code",
      "source": [
        "# Analyze Data\n",
        "def explore_data(df):\n",
        "    print(\"Number of Instances and Attributes:\", df.shape)\n",
        "    print('\\n')\n",
        "    print('Dataset columns:',df.columns)\n",
        "    print('\\n')\n",
        "    print('Data types of each columns: ', df.info())\n",
        "    \n",
        "# Checking for duplicates\n",
        "def checking_removing_duplicates(df):\n",
        "    count_dups = df.duplicated().sum()\n",
        "    print(\"Number of Duplicates: \", count_dups)\n",
        "    if count_dups >= 1:\n",
        "        df.drop_duplicates(inplace=True)\n",
        "        print('Duplicate values removed!')\n",
        "    else:\n",
        "        print('No Duplicate values')\n",
        "    \n",
        "\n",
        "# Split training and validation set\n",
        "def read_in_and_split_data(data, target):\n",
        "    X = data.drop(target, axis=1)\n",
        "    y = data[target]\n",
        "    X_train, X_test, y_train, y_test = train_test_split(X,y,test_size=0.2, random_state=0)\n",
        "    return X_train, X_test, y_train, y_test\n",
        "    \n",
        "# Spot-Check Algorithms\n",
        "def GetModel():\n",
        "    Models = []\n",
        "    Models.append(('LR'   , LogisticRegression()))\n",
        "    Models.append(('LDA'  , LinearDiscriminantAnalysis()))\n",
        "    Models.append(('KNN'  , KNeighborsClassifier()))\n",
        "    Models.append(('CART' , DecisionTreeClassifier()))\n",
        "    Models.append(('NB'   , GaussianNB()))\n",
        "    Models.append(('SVM'  , SVC(probability=True)))\n",
        "    return Models\n",
        "\n",
        "def ensemblemodels():\n",
        "    ensembles = []\n",
        "    ensembles.append(('AB'   , AdaBoostClassifier()))\n",
        "    ensembles.append(('GBM'  , GradientBoostingClassifier()))\n",
        "    ensembles.append(('RF'   , RandomForestClassifier()))\n",
        "    ensembles.append(( 'Bagging' , BaggingClassifier()))\n",
        "    ensembles.append(('ET', ExtraTreesClassifier()))\n",
        "    return ensembles\n",
        "\n",
        "# Spot-Check Normalized Models\n",
        "def NormalizedModel(nameOfScaler):\n",
        "    \n",
        "    if nameOfScaler == 'standard':\n",
        "        scaler = StandardScaler()\n",
        "    elif nameOfScaler =='minmax':\n",
        "        scaler = MinMaxScaler()\n",
        "    elif nameOfScaler == 'normalizer':\n",
        "        scaler = Normalizer()\n",
        "    elif nameOfScaler == 'binarizer':\n",
        "        scaler = Binarizer()\n",
        "\n",
        "    pipelines = []\n",
        "    pipelines.append((nameOfScaler+'LR'  , Pipeline([('Scaler', scaler),('LR'  , LogisticRegression())])))\n",
        "    pipelines.append((nameOfScaler+'LDA' , Pipeline([('Scaler', scaler),('LDA' , LinearDiscriminantAnalysis())])))\n",
        "    pipelines.append((nameOfScaler+'KNN' , Pipeline([('Scaler', scaler),('KNN' , KNeighborsClassifier())])))\n",
        "    pipelines.append((nameOfScaler+'CART', Pipeline([('Scaler', scaler),('CART', DecisionTreeClassifier())])))\n",
        "    pipelines.append((nameOfScaler+'NB'  , Pipeline([('Scaler', scaler),('NB'  , GaussianNB())])))\n",
        "    pipelines.append((nameOfScaler+'SVM' , Pipeline([('Scaler', scaler),('SVM' , SVC())])))\n",
        "    pipelines.append((nameOfScaler+'AB'  , Pipeline([('Scaler', scaler),('AB'  , AdaBoostClassifier())])  ))\n",
        "    pipelines.append((nameOfScaler+'GBM' , Pipeline([('Scaler', scaler),('GMB' , GradientBoostingClassifier())])  ))\n",
        "    pipelines.append((nameOfScaler+'RF'  , Pipeline([('Scaler', scaler),('RF'  , RandomForestClassifier())])  ))\n",
        "    pipelines.append((nameOfScaler+'ET'  , Pipeline([('Scaler', scaler),('ET'  , ExtraTreesClassifier())])  ))\n",
        "\n",
        "    return pipelines\n"
      ],
      "metadata": {
        "id": "fdblk-U68BgR"
      },
      "execution_count": null,
      "outputs": []
    },
    {
      "cell_type": "code",
      "source": [
        "# Train model\n",
        "def fit_model(X_train, y_train,models):\n",
        "    # Test options and evaluation metric\n",
        "    num_folds = 10\n",
        "    scoring = 'accuracy'\n",
        "\n",
        "    results = []\n",
        "    names = []\n",
        "    for name, model in models:\n",
        "        kfold = KFold(n_splits=num_folds, shuffle=True, random_state=0)\n",
        "        cv_results = cross_val_score(model, X_train, y_train, cv=kfold, scoring=scoring)\n",
        "        results.append(cv_results)\n",
        "        names.append(name)\n",
        "        msg = \"%s: %f (%f)\" % (name, cv_results.mean(), cv_results.std())\n",
        "        print(msg)\n",
        "        \n",
        "    return names, results\n",
        "\n",
        "# Save trained model\n",
        "def save_model(model,filename):\n",
        "    pickle.dump(model, open(filename, 'wb'))\n",
        "\n",
        "# Performance Measure\n",
        "def classification_metrics(model, conf_matrix):\n",
        "    print(f\"Training Accuracy Score: {model.score(X_train, y_train) * 100:.1f}%\")\n",
        "    print(f\"Validation Accuracy Score: {model.score(X_test, y_test) * 100:.1f}%\")\n",
        "    fig,ax = plt.subplots(figsize=(8,6))\n",
        "    sns.heatmap(pd.DataFrame(conf_matrix), annot = True, cmap = 'YlGnBu',fmt = 'g')\n",
        "    ax.xaxis.set_label_position('top')\n",
        "    plt.tight_layout()\n",
        "    plt.title('Confusion Matrix', fontsize=20, y=1.1)\n",
        "    plt.ylabel('Actual label', fontsize=15)\n",
        "    plt.xlabel('Predicted label', fontsize=15)\n",
        "    plt.show()\n",
        "    print(classification_report(y_test, y_pred))\n",
        "    \n",
        "# ROC_AUC\n",
        "def roc_auc(y_test, y_pred):\n",
        "    fpr, tpr, thresholds = roc_curve(y_test, y_pred)\n",
        "    plt.figure(figsize=(8,6))\n",
        "    print(f\"roc_auc score: {auc(fpr, tpr)*100:.1f}%\")\n",
        "    plt.plot(fpr, tpr, color='orange', label='ROC')\n",
        "    plt.plot([0, 1], [0, 1], color='darkblue', linestyle='--')\n",
        "    plt.xlabel('False Positive Rate',fontsize=12)\n",
        "    plt.ylabel('True Positive Rate', fontsize=12)\n",
        "    plt.title('Receiver Operating Characteristic (ROC) Curve', fontsize=20)\n",
        "    plt.legend()\n",
        "    plt.show()"
      ],
      "metadata": {
        "id": "quhdkPwJ8HkP"
      },
      "execution_count": null,
      "outputs": []
    },
    {
      "cell_type": "code",
      "source": [
        "df = pd.read_csv('/content/drive/MyDrive/Crop_recommendation.csv')\n",
        "df.head()"
      ],
      "metadata": {
        "colab": {
          "base_uri": "https://localhost:8080/",
          "height": 206
        },
        "id": "63NxOAgA8NVW",
        "outputId": "d11cb71c-c8cb-458c-9220-18429b7e6a6d"
      },
      "execution_count": null,
      "outputs": [
        {
          "output_type": "execute_result",
          "data": {
            "text/plain": [
              "    N   P   K  temperature   humidity        ph    rainfall label\n",
              "0  90  42  43    20.879744  82.002744  6.502985  202.935536  rice\n",
              "1  85  58  41    21.770462  80.319644  7.038096  226.655537  rice\n",
              "2  60  55  44    23.004459  82.320763  7.840207  263.964248  rice\n",
              "3  74  35  40    26.491096  80.158363  6.980401  242.864034  rice\n",
              "4  78  42  42    20.130175  81.604873  7.628473  262.717340  rice"
            ],
            "text/html": [
              "\n",
              "  <div id=\"df-19a3cf01-d334-4cf1-85dd-e8bd49cdb3d7\">\n",
              "    <div class=\"colab-df-container\">\n",
              "      <div>\n",
              "<style scoped>\n",
              "    .dataframe tbody tr th:only-of-type {\n",
              "        vertical-align: middle;\n",
              "    }\n",
              "\n",
              "    .dataframe tbody tr th {\n",
              "        vertical-align: top;\n",
              "    }\n",
              "\n",
              "    .dataframe thead th {\n",
              "        text-align: right;\n",
              "    }\n",
              "</style>\n",
              "<table border=\"1\" class=\"dataframe\">\n",
              "  <thead>\n",
              "    <tr style=\"text-align: right;\">\n",
              "      <th></th>\n",
              "      <th>N</th>\n",
              "      <th>P</th>\n",
              "      <th>K</th>\n",
              "      <th>temperature</th>\n",
              "      <th>humidity</th>\n",
              "      <th>ph</th>\n",
              "      <th>rainfall</th>\n",
              "      <th>label</th>\n",
              "    </tr>\n",
              "  </thead>\n",
              "  <tbody>\n",
              "    <tr>\n",
              "      <th>0</th>\n",
              "      <td>90</td>\n",
              "      <td>42</td>\n",
              "      <td>43</td>\n",
              "      <td>20.879744</td>\n",
              "      <td>82.002744</td>\n",
              "      <td>6.502985</td>\n",
              "      <td>202.935536</td>\n",
              "      <td>rice</td>\n",
              "    </tr>\n",
              "    <tr>\n",
              "      <th>1</th>\n",
              "      <td>85</td>\n",
              "      <td>58</td>\n",
              "      <td>41</td>\n",
              "      <td>21.770462</td>\n",
              "      <td>80.319644</td>\n",
              "      <td>7.038096</td>\n",
              "      <td>226.655537</td>\n",
              "      <td>rice</td>\n",
              "    </tr>\n",
              "    <tr>\n",
              "      <th>2</th>\n",
              "      <td>60</td>\n",
              "      <td>55</td>\n",
              "      <td>44</td>\n",
              "      <td>23.004459</td>\n",
              "      <td>82.320763</td>\n",
              "      <td>7.840207</td>\n",
              "      <td>263.964248</td>\n",
              "      <td>rice</td>\n",
              "    </tr>\n",
              "    <tr>\n",
              "      <th>3</th>\n",
              "      <td>74</td>\n",
              "      <td>35</td>\n",
              "      <td>40</td>\n",
              "      <td>26.491096</td>\n",
              "      <td>80.158363</td>\n",
              "      <td>6.980401</td>\n",
              "      <td>242.864034</td>\n",
              "      <td>rice</td>\n",
              "    </tr>\n",
              "    <tr>\n",
              "      <th>4</th>\n",
              "      <td>78</td>\n",
              "      <td>42</td>\n",
              "      <td>42</td>\n",
              "      <td>20.130175</td>\n",
              "      <td>81.604873</td>\n",
              "      <td>7.628473</td>\n",
              "      <td>262.717340</td>\n",
              "      <td>rice</td>\n",
              "    </tr>\n",
              "  </tbody>\n",
              "</table>\n",
              "</div>\n",
              "      <button class=\"colab-df-convert\" onclick=\"convertToInteractive('df-19a3cf01-d334-4cf1-85dd-e8bd49cdb3d7')\"\n",
              "              title=\"Convert this dataframe to an interactive table.\"\n",
              "              style=\"display:none;\">\n",
              "        \n",
              "  <svg xmlns=\"http://www.w3.org/2000/svg\" height=\"24px\"viewBox=\"0 0 24 24\"\n",
              "       width=\"24px\">\n",
              "    <path d=\"M0 0h24v24H0V0z\" fill=\"none\"/>\n",
              "    <path d=\"M18.56 5.44l.94 2.06.94-2.06 2.06-.94-2.06-.94-.94-2.06-.94 2.06-2.06.94zm-11 1L8.5 8.5l.94-2.06 2.06-.94-2.06-.94L8.5 2.5l-.94 2.06-2.06.94zm10 10l.94 2.06.94-2.06 2.06-.94-2.06-.94-.94-2.06-.94 2.06-2.06.94z\"/><path d=\"M17.41 7.96l-1.37-1.37c-.4-.4-.92-.59-1.43-.59-.52 0-1.04.2-1.43.59L10.3 9.45l-7.72 7.72c-.78.78-.78 2.05 0 2.83L4 21.41c.39.39.9.59 1.41.59.51 0 1.02-.2 1.41-.59l7.78-7.78 2.81-2.81c.8-.78.8-2.07 0-2.86zM5.41 20L4 18.59l7.72-7.72 1.47 1.35L5.41 20z\"/>\n",
              "  </svg>\n",
              "      </button>\n",
              "      \n",
              "  <style>\n",
              "    .colab-df-container {\n",
              "      display:flex;\n",
              "      flex-wrap:wrap;\n",
              "      gap: 12px;\n",
              "    }\n",
              "\n",
              "    .colab-df-convert {\n",
              "      background-color: #E8F0FE;\n",
              "      border: none;\n",
              "      border-radius: 50%;\n",
              "      cursor: pointer;\n",
              "      display: none;\n",
              "      fill: #1967D2;\n",
              "      height: 32px;\n",
              "      padding: 0 0 0 0;\n",
              "      width: 32px;\n",
              "    }\n",
              "\n",
              "    .colab-df-convert:hover {\n",
              "      background-color: #E2EBFA;\n",
              "      box-shadow: 0px 1px 2px rgba(60, 64, 67, 0.3), 0px 1px 3px 1px rgba(60, 64, 67, 0.15);\n",
              "      fill: #174EA6;\n",
              "    }\n",
              "\n",
              "    [theme=dark] .colab-df-convert {\n",
              "      background-color: #3B4455;\n",
              "      fill: #D2E3FC;\n",
              "    }\n",
              "\n",
              "    [theme=dark] .colab-df-convert:hover {\n",
              "      background-color: #434B5C;\n",
              "      box-shadow: 0px 1px 3px 1px rgba(0, 0, 0, 0.15);\n",
              "      filter: drop-shadow(0px 1px 2px rgba(0, 0, 0, 0.3));\n",
              "      fill: #FFFFFF;\n",
              "    }\n",
              "  </style>\n",
              "\n",
              "      <script>\n",
              "        const buttonEl =\n",
              "          document.querySelector('#df-19a3cf01-d334-4cf1-85dd-e8bd49cdb3d7 button.colab-df-convert');\n",
              "        buttonEl.style.display =\n",
              "          google.colab.kernel.accessAllowed ? 'block' : 'none';\n",
              "\n",
              "        async function convertToInteractive(key) {\n",
              "          const element = document.querySelector('#df-19a3cf01-d334-4cf1-85dd-e8bd49cdb3d7');\n",
              "          const dataTable =\n",
              "            await google.colab.kernel.invokeFunction('convertToInteractive',\n",
              "                                                     [key], {});\n",
              "          if (!dataTable) return;\n",
              "\n",
              "          const docLinkHtml = 'Like what you see? Visit the ' +\n",
              "            '<a target=\"_blank\" href=https://colab.research.google.com/notebooks/data_table.ipynb>data table notebook</a>'\n",
              "            + ' to learn more about interactive tables.';\n",
              "          element.innerHTML = '';\n",
              "          dataTable['output_type'] = 'display_data';\n",
              "          await google.colab.output.renderOutput(dataTable, element);\n",
              "          const docLink = document.createElement('div');\n",
              "          docLink.innerHTML = docLinkHtml;\n",
              "          element.appendChild(docLink);\n",
              "        }\n",
              "      </script>\n",
              "    </div>\n",
              "  </div>\n",
              "  "
            ]
          },
          "metadata": {},
          "execution_count": 5
        }
      ]
    },
    {
      "cell_type": "code",
      "source": [
        "explore_data(df)"
      ],
      "metadata": {
        "colab": {
          "base_uri": "https://localhost:8080/"
        },
        "id": "h7cGiZN18T7v",
        "outputId": "0c623c41-ac6f-41ba-e7a4-46a0e5c98560"
      },
      "execution_count": null,
      "outputs": [
        {
          "output_type": "stream",
          "name": "stdout",
          "text": [
            "Number of Instances and Attributes: (2200, 8)\n",
            "\n",
            "\n",
            "Dataset columns: Index(['N', 'P', 'K', 'temperature', 'humidity', 'ph', 'rainfall', 'label'], dtype='object')\n",
            "\n",
            "\n",
            "<class 'pandas.core.frame.DataFrame'>\n",
            "RangeIndex: 2200 entries, 0 to 2199\n",
            "Data columns (total 8 columns):\n",
            " #   Column       Non-Null Count  Dtype  \n",
            "---  ------       --------------  -----  \n",
            " 0   N            2200 non-null   int64  \n",
            " 1   P            2200 non-null   int64  \n",
            " 2   K            2200 non-null   int64  \n",
            " 3   temperature  2200 non-null   float64\n",
            " 4   humidity     2200 non-null   float64\n",
            " 5   ph           2200 non-null   float64\n",
            " 6   rainfall     2200 non-null   float64\n",
            " 7   label        2200 non-null   object \n",
            "dtypes: float64(4), int64(3), object(1)\n",
            "memory usage: 137.6+ KB\n",
            "Data types of each columns:  None\n"
          ]
        }
      ]
    },
    {
      "cell_type": "code",
      "source": [
        "checking_removing_duplicates(df)"
      ],
      "metadata": {
        "colab": {
          "base_uri": "https://localhost:8080/"
        },
        "id": "1AaI61g_8Wru",
        "outputId": "04f59a9c-175f-41bf-c510-60be8623960b"
      },
      "execution_count": null,
      "outputs": [
        {
          "output_type": "stream",
          "name": "stdout",
          "text": [
            "Number of Duplicates:  0\n",
            "No Duplicate values\n"
          ]
        }
      ]
    },
    {
      "cell_type": "code",
      "source": [
        "df.isna().sum()"
      ],
      "metadata": {
        "colab": {
          "base_uri": "https://localhost:8080/"
        },
        "id": "O8K9im8z8Y1X",
        "outputId": "9193c391-9cc8-43f5-b3a0-6171324648c7"
      },
      "execution_count": null,
      "outputs": [
        {
          "output_type": "execute_result",
          "data": {
            "text/plain": [
              "N              0\n",
              "P              0\n",
              "K              0\n",
              "temperature    0\n",
              "humidity       0\n",
              "ph             0\n",
              "rainfall       0\n",
              "label          0\n",
              "dtype: int64"
            ]
          },
          "metadata": {},
          "execution_count": 8
        }
      ]
    },
    {
      "cell_type": "code",
      "source": [
        "# All columns contain outliers except for rice and label you can check outliers by using boxplot\n",
        "Q1 = df.quantile(0.25)\n",
        "Q3 = df.quantile(0.75)\n",
        "IQR = Q3 - Q1\n",
        "\n",
        "df_out = df[~((df < (Q1 - 1.5 * IQR)) |(df > (Q3 + 1.5 * IQR))).any(axis=1)]"
      ],
      "metadata": {
        "id": "F9Kl_s4I8a8g"
      },
      "execution_count": null,
      "outputs": []
    },
    {
      "cell_type": "code",
      "source": [
        "target ='label'\n",
        "X_train, X_test, y_train, y_test = read_in_and_split_data(df, target)\n",
        "\n",
        "models = GetModel()\n",
        "names,results = fit_model(X_train, y_train,models)"
      ],
      "metadata": {
        "colab": {
          "base_uri": "https://localhost:8080/"
        },
        "id": "ivsPPya28eJH",
        "outputId": "cfff3b61-8904-4e65-deb4-63bd1a7f9ad6"
      },
      "execution_count": null,
      "outputs": [
        {
          "output_type": "stream",
          "name": "stdout",
          "text": [
            "LR: 0.955114 (0.016749)\n",
            "LDA: 0.965909 (0.013203)\n",
            "KNN: 0.979545 (0.005207)\n",
            "CART: 0.982955 (0.011364)\n",
            "NB: 0.993750 (0.004720)\n",
            "SVM: 0.976705 (0.008214)\n"
          ]
        }
      ]
    },
    {
      "cell_type": "code",
      "source": [
        "ScaledModel = NormalizedModel('minmax')\n",
        "name,results = fit_model(X_train, y_train, ScaledModel)"
      ],
      "metadata": {
        "colab": {
          "base_uri": "https://localhost:8080/"
        },
        "id": "9tM03V_d8gFP",
        "outputId": "027a04bf-2ff3-4580-bb26-cd407f944bfe"
      },
      "execution_count": null,
      "outputs": [
        {
          "output_type": "stream",
          "name": "stdout",
          "text": [
            "minmaxLR: 0.932955 (0.025763)\n",
            "minmaxLDA: 0.965909 (0.013203)\n",
            "minmaxKNN: 0.978409 (0.008351)\n",
            "minmaxCART: 0.982386 (0.012305)\n",
            "minmaxNB: 0.993750 (0.004720)\n",
            "minmaxSVM: 0.982955 (0.006723)\n",
            "minmaxAB: 0.130114 (0.025969)\n",
            "minmaxGBM: 0.988636 (0.005682)\n",
            "minmaxRF: 0.994318 (0.004401)\n",
            "minmaxET: 0.993750 (0.003977)\n"
          ]
        }
      ]
    },
    {
      "cell_type": "code",
      "source": [
        "ScaledModel = NormalizedModel('standard')\n",
        "name,results = fit_model(X_train, y_train, ScaledModel)"
      ],
      "metadata": {
        "colab": {
          "base_uri": "https://localhost:8080/"
        },
        "id": "9GuAvdDI8h-t",
        "outputId": "db794b65-7caa-4636-bf7c-621a7040876b"
      },
      "execution_count": null,
      "outputs": [
        {
          "output_type": "stream",
          "name": "stdout",
          "text": [
            "standardLR: 0.969886 (0.014827)\n",
            "standardLDA: 0.965909 (0.013203)\n",
            "standardKNN: 0.968750 (0.011149)\n",
            "standardCART: 0.982955 (0.011076)\n",
            "standardNB: 0.993750 (0.004720)\n",
            "standardSVM: 0.982386 (0.008966)\n",
            "standardAB: 0.141477 (0.036510)\n",
            "standardGBM: 0.988636 (0.005682)\n",
            "standardRF: 0.993750 (0.005360)\n",
            "standardET: 0.990909 (0.005207)\n"
          ]
        }
      ]
    },
    {
      "cell_type": "code",
      "source": [
        "ScaledModel = NormalizedModel('normalizer')\n",
        "name,results = fit_model(X_train, y_train, ScaledModel)"
      ],
      "metadata": {
        "colab": {
          "base_uri": "https://localhost:8080/"
        },
        "id": "J8d6u-pA9Bdi",
        "outputId": "9ec30e8d-0e09-47f9-d6cd-39ecf5e36da0"
      },
      "execution_count": null,
      "outputs": [
        {
          "output_type": "stream",
          "name": "stdout",
          "text": [
            "normalizerLR: 0.853409 (0.024871)\n",
            "normalizerLDA: 0.934659 (0.012768)\n",
            "normalizerKNN: 0.944318 (0.015622)\n",
            "normalizerCART: 0.934659 (0.014871)\n",
            "normalizerNB: 0.956250 (0.011090)\n",
            "normalizerSVM: 0.951705 (0.012768)\n",
            "normalizerAB: 0.152841 (0.033465)\n",
            "normalizerGBM: 0.951136 (0.011972)\n",
            "normalizerRF: 0.975568 (0.008821)\n",
            "normalizerET: 0.976705 (0.005360)\n"
          ]
        }
      ]
    },
    {
      "cell_type": "code",
      "source": [
        "pipeline = make_pipeline(MinMaxScaler(),  GaussianNB())\n",
        "model = pipeline.fit(X_train, y_train)\n",
        "y_pred = model.predict(X_test)\n",
        "conf_matrix = confusion_matrix(y_test,y_pred)\n",
        "classification_metrics(pipeline, conf_matrix)\n",
        "\n",
        "# save model\n",
        "save_model(model, 'model.pkl')"
      ],
      "metadata": {
        "colab": {
          "base_uri": "https://localhost:8080/"
        },
        "id": "zhJN8H4h9gDg",
        "outputId": "c93d8868-c3d4-44ed-d7d9-a2ca4eb74a55"
      },
      "execution_count": null,
      "outputs": [
        {
          "output_type": "stream",
          "name": "stdout",
          "text": [
            "Training Accuracy Score: 99.5%\n",
            "Validation Accuracy Score: 99.3%\n",
            "              precision    recall  f1-score   support\n",
            "\n",
            "       apple       1.00      1.00      1.00        18\n",
            "      banana       1.00      1.00      1.00        18\n",
            "   blackgram       1.00      1.00      1.00        22\n",
            "    chickpea       1.00      1.00      1.00        23\n",
            "     coconut       1.00      1.00      1.00        15\n",
            "      coffee       1.00      1.00      1.00        17\n",
            "      cotton       1.00      1.00      1.00        16\n",
            "      grapes       1.00      1.00      1.00        18\n",
            "        jute       0.88      1.00      0.93        21\n",
            " kidneybeans       1.00      1.00      1.00        20\n",
            "      lentil       1.00      1.00      1.00        17\n",
            "       maize       1.00      1.00      1.00        18\n",
            "       mango       1.00      1.00      1.00        21\n",
            "   mothbeans       1.00      1.00      1.00        25\n",
            "    mungbean       1.00      1.00      1.00        17\n",
            "   muskmelon       1.00      1.00      1.00        23\n",
            "      orange       1.00      1.00      1.00        23\n",
            "      papaya       1.00      1.00      1.00        21\n",
            "  pigeonpeas       1.00      1.00      1.00        22\n",
            " pomegranate       1.00      1.00      1.00        23\n",
            "        rice       1.00      0.88      0.94        25\n",
            "  watermelon       1.00      1.00      1.00        17\n",
            "\n",
            "    accuracy                           0.99       440\n",
            "   macro avg       0.99      0.99      0.99       440\n",
            "weighted avg       0.99      0.99      0.99       440\n",
            "\n"
          ]
        }
      ]
    },
    {
      "cell_type": "code",
      "source": [
        "N = 90\n",
        "P = 42\n",
        "K = 43\n",
        "temperature = 20.82312\n",
        "humidity = 82.00284\n",
        "ph = 6.50232\n",
        "rainfall = 202.93536\n",
        "\n",
        "\n",
        "sample = [N, P, K, temperature, humidity, ph, rainfall]\n",
        "single_sample = np.array(sample).reshape(1,-1)\n",
        "pred = model.predict(single_sample)\n",
        "pred.item().title()"
      ],
      "metadata": {
        "colab": {
          "base_uri": "https://localhost:8080/",
          "height": 36
        },
        "id": "wvStY6RV-tJW",
        "outputId": "afaf870f-cca5-40ee-8031-a46dac861ea6"
      },
      "execution_count": null,
      "outputs": [
        {
          "output_type": "execute_result",
          "data": {
            "text/plain": [
              "'Rice'"
            ],
            "application/vnd.google.colaboratory.intrinsic+json": {
              "type": "string"
            }
          },
          "metadata": {},
          "execution_count": 19
        }
      ]
    },
    {
      "cell_type": "code",
      "source": [
        "N = 71\n",
        "P = 54\n",
        "K = 16\n",
        "temperature = 22.6136\n",
        "humidity = 63.69071\n",
        "ph = 5.749914\n",
        "rainfall = 87.75954\n",
        "\n",
        "\n",
        "sample = [N, P, K, temperature, humidity, ph, rainfall]\n",
        "single_sample = np.array(sample).reshape(1,-1)\n",
        "pred = model.predict(single_sample)\n",
        "pred.item().title()"
      ],
      "metadata": {
        "colab": {
          "base_uri": "https://localhost:8080/",
          "height": 36
        },
        "id": "YgUbygRP-wxo",
        "outputId": "27d52e63-ad6e-4ee8-f964-3062bdae8b4c"
      },
      "execution_count": null,
      "outputs": [
        {
          "output_type": "execute_result",
          "data": {
            "text/plain": [
              "'Maize'"
            ],
            "application/vnd.google.colaboratory.intrinsic+json": {
              "type": "string"
            }
          },
          "metadata": {},
          "execution_count": 20
        }
      ]
    },
    {
      "cell_type": "code",
      "source": [
        "N = 2\n",
        "P = 40\n",
        "K = 27\n",
        "temperature = 29.7377\n",
        "humidity = 47.54885\n",
        "ph = 5.954627\n",
        "rainfall = 90.09587\n",
        "\n",
        "\n",
        "sample = [N, P, K, temperature, humidity, ph, rainfall]\n",
        "single_sample = np.array(sample).reshape(1,-1)\n",
        "pred = model.predict(single_sample)\n",
        "pred.item().title()"
      ],
      "metadata": {
        "colab": {
          "base_uri": "https://localhost:8080/",
          "height": 36
        },
        "id": "pzFSM_mg_CDY",
        "outputId": "fa8b62d0-50fc-404f-f335-816012920a40"
      },
      "execution_count": null,
      "outputs": [
        {
          "output_type": "execute_result",
          "data": {
            "text/plain": [
              "'Mango'"
            ],
            "application/vnd.google.colaboratory.intrinsic+json": {
              "type": "string"
            }
          },
          "metadata": {},
          "execution_count": 21
        }
      ]
    }
  ]
}